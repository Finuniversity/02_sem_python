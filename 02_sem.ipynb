{
 "cells": [
  {
   "cell_type": "markdown",
   "id": "abcbaab0",
   "metadata": {},
   "source": [
    "# Семинар 22.02"
   ]
  },
  {
   "cell_type": "markdown",
   "id": "4e555eb0",
   "metadata": {},
   "source": [
    "### Задания"
   ]
  },
  {
   "cell_type": "markdown",
   "id": "9b59d8ef",
   "metadata": {},
   "source": [
    "Перенестите необходимый код из предыдущего симинара    \n",
    "  \n",
    "9) Создать наследника класса фигура - треугольник (по сложности: 1) прямоугольный с одинаковыми катетами 2) просто прямоугольный 3) любой треугольник).   \n",
    "10) Создать наследника класса прямоугольник - класс квадрат    \n",
    "11) Создать несколько объектов класса треугольник, прямоугольник и фигура, поместить их в список и вызвать функцию рисования при обходе списка (пример полиморфизма).    \n",
    "12) Нарисовать ромб (через функцию рисования диагонали)    \n",
    "13) Создать класс линии (не является наследником фигуры), имеющий метод draw аналогичный предыдущему    \n",
    "14) Повторить 10 с участием линии (пример утиной типизации)    \n",
    "15) Реализовать для всех объектов метод, позволяющий печатать объекты при помощи функции print_screen()    "
   ]
  },
  {
   "cell_type": "code",
   "execution_count": 1,
   "id": "d8513653",
   "metadata": {},
   "outputs": [],
   "source": [
    "# Код"
   ]
  }
 ],
 "metadata": {
  "kernelspec": {
   "display_name": "Python 3 (ipykernel)",
   "language": "python",
   "name": "python3"
  },
  "language_info": {
   "codemirror_mode": {
    "name": "ipython",
    "version": 3
   },
   "file_extension": ".py",
   "mimetype": "text/x-python",
   "name": "python",
   "nbconvert_exporter": "python",
   "pygments_lexer": "ipython3",
   "version": "3.9.7"
  }
 },
 "nbformat": 4,
 "nbformat_minor": 5
}
